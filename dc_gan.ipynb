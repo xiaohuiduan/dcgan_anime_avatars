{
 "metadata": {
  "kernelspec": {
   "language": "python",
   "display_name": "Python 3",
   "name": "python3"
  },
  "language_info": {
   "pygments_lexer": "ipython3",
   "nbconvert_exporter": "python",
   "version": "3.6.4",
   "file_extension": ".py",
   "codemirror_mode": {
    "name": "ipython",
    "version": 3
   },
   "name": "python",
   "mimetype": "text/x-python"
  }
 },
 "nbformat_minor": 4,
 "nbformat": 4,
 "cells": [
  {
   "cell_type": "code",
   "source": [
    "# 数据集的位置\n",
    "avatar_img_path = \"../input/anime-faces/data\"\n",
    "\n",
    "import os\n",
    "\n",
    "import cv2\n",
    "import numpy as np\n",
    "def load_data():\n",
    "    \"\"\"\n",
    "    加载数据集\n",
    "    :return: 返回numpy数组\n",
    "    \"\"\"\n",
    "    all_images = []\n",
    "    # 从本地文件读取图片加载到images_data中。\n",
    "    for image_name in os.listdir(avatar_img_path):\n",
    "        try:\n",
    "            image = cv2.cvtColor(\n",
    "                cv2.resize(\n",
    "                    cv2.imread(os.path.join(avatar_img_path,image_name), cv2.IMREAD_COLOR),\n",
    "                    (64, 64)\n",
    "                    ),cv2.COLOR_BGR2RGB\n",
    "                )\n",
    "            all_images.append(image)\n",
    "        except:\n",
    "            continue\n",
    "        \n",
    "    all_images = np.array(all_images)\n",
    "    # 将图片数值变成[-1,1]\n",
    "    all_images = (all_images - 127.5) / 127.5\n",
    "    # 将数据随机排序\n",
    "    np.random.shuffle(all_images)\n",
    "    return all_images\n",
    "img_dataset=load_data()"
   ],
   "metadata": {
    "execution": {
     "iopub.status.busy": "2021-08-14T09:59:17.611216Z",
     "iopub.execute_input": "2021-08-14T09:59:17.611733Z",
     "iopub.status.idle": "2021-08-14T10:00:33.616299Z",
     "shell.execute_reply.started": "2021-08-14T09:59:17.61162Z",
     "shell.execute_reply": "2021-08-14T10:00:33.615421Z"
    },
    "trusted": true
   },
   "execution_count": null,
   "outputs": []
  },
  {
   "cell_type": "code",
   "source": [
    "\n",
    "import matplotlib.pyplot as plt\n",
    "def show_images(images,index = -1):\n",
    "    \"\"\"\n",
    "    展示并保存图片\n",
    "    :param images: 需要show的图片\n",
    "    :param index: 图片名\n",
    "    :return:\n",
    "    \"\"\"\n",
    "    plt.figure()\n",
    "    for i, image in enumerate(images):\n",
    "        ax = plt.subplot(5, 5, i+1)\n",
    "        plt.axis('off')\n",
    "        plt.imshow(image)\n",
    "    plt.savefig(\"data_%d.png\"%index)\n",
    "    plt.show()"
   ],
   "metadata": {
    "execution": {
     "iopub.status.busy": "2021-08-14T10:00:33.617835Z",
     "iopub.execute_input": "2021-08-14T10:00:33.61816Z",
     "iopub.status.idle": "2021-08-14T10:00:33.624351Z",
     "shell.execute_reply.started": "2021-08-14T10:00:33.618125Z",
     "shell.execute_reply": "2021-08-14T10:00:33.62347Z"
    },
    "trusted": true
   },
   "execution_count": null,
   "outputs": []
  },
  {
   "cell_type": "code",
   "source": [
    "show_images(img_dataset[0: 25])"
   ],
   "metadata": {
    "tags": [],
    "execution": {
     "iopub.status.busy": "2021-08-14T10:00:33.643372Z",
     "iopub.execute_input": "2021-08-14T10:00:33.64388Z",
     "iopub.status.idle": "2021-08-14T10:00:34.55806Z",
     "shell.execute_reply.started": "2021-08-14T10:00:33.643839Z",
     "shell.execute_reply": "2021-08-14T10:00:34.557219Z"
    },
    "trusted": true
   },
   "execution_count": null,
   "outputs": []
  },
  {
   "cell_type": "code",
   "source": [
    "# noise的维度\n",
    "noise_dim = 100\n",
    "# 图片的shape\n",
    "image_shape = (64,64,3)"
   ],
   "metadata": {
    "execution": {
     "iopub.status.busy": "2021-08-14T10:00:34.559621Z",
     "iopub.execute_input": "2021-08-14T10:00:34.559957Z",
     "iopub.status.idle": "2021-08-14T10:00:34.564778Z",
     "shell.execute_reply.started": "2021-08-14T10:00:34.559919Z",
     "shell.execute_reply": "2021-08-14T10:00:34.563781Z"
    },
    "trusted": true
   },
   "execution_count": null,
   "outputs": []
  },
  {
   "cell_type": "code",
   "source": [
    "from keras.models import Sequential,Model\n",
    "from keras.layers import Dropout, Conv2D, Dense,  LeakyReLU, Input,Reshape,  Flatten,  Conv2DTranspose\n",
    "from keras.optimizers import Adam"
   ],
   "metadata": {
    "execution": {
     "iopub.status.busy": "2021-08-14T10:00:34.566319Z",
     "iopub.execute_input": "2021-08-14T10:00:34.567095Z",
     "iopub.status.idle": "2021-08-14T10:00:38.702606Z",
     "shell.execute_reply.started": "2021-08-14T10:00:34.567059Z",
     "shell.execute_reply": "2021-08-14T10:00:38.701756Z"
    },
    "trusted": true
   },
   "execution_count": null,
   "outputs": []
  },
  {
   "cell_type": "code",
   "source": [
    "def build_G():\n",
    "    \"\"\"\n",
    "    构建生成器\n",
    "    :return:\n",
    "    \"\"\"\n",
    "    model = Sequential()\n",
    "    model.add(Input(shape=noise_dim))\n",
    "\n",
    "    model.add(Dense(128*32*32))\n",
    "    model.add(LeakyReLU(0.2))\n",
    "    model.add(Reshape((32,32,128)))\n",
    "    \n",
    "    model.add(Conv2D(256,5,padding='same'))\n",
    "    model.add(LeakyReLU(0.2))\n",
    "    \n",
    "    model.add(Conv2DTranspose(256,4,strides=2,padding='same'))\n",
    "    model.add(LeakyReLU(0.2))\n",
    "    \n",
    "    model.add(Conv2D(256,5,padding='same'))\n",
    "    model.add(LeakyReLU(0.2))\n",
    "    \n",
    "    \n",
    "    model.add(Conv2D(256,5,padding='same'))\n",
    "    model.add(LeakyReLU(0.2))\n",
    "    \n",
    "    model.add(Conv2D(3,7,activation='tanh',padding='same'))\n",
    "    \n",
    "    return model\n",
    "\n",
    "G = build_G()"
   ],
   "metadata": {
    "execution": {
     "iopub.status.busy": "2021-08-14T10:00:38.703877Z",
     "iopub.execute_input": "2021-08-14T10:00:38.704203Z",
     "iopub.status.idle": "2021-08-14T10:00:40.66034Z",
     "shell.execute_reply.started": "2021-08-14T10:00:38.70417Z",
     "shell.execute_reply": "2021-08-14T10:00:40.659521Z"
    },
    "trusted": true
   },
   "execution_count": null,
   "outputs": []
  },
  {
   "cell_type": "code",
   "source": [
    "\n",
    "def build_D():\n",
    "    \"\"\"\n",
    "    构建判别器\n",
    "    :return: \n",
    "    \"\"\"\n",
    "    model = Sequential()\n",
    "    \n",
    "    # 卷积层\n",
    "    model.add(Conv2D(128,3,input_shape = image_shape))\n",
    "    model.add(LeakyReLU(0.2))\n",
    "\n",
    "    model.add(Conv2D(128,4, strides=2))\n",
    "    model.add(LeakyReLU(0.2))\n",
    "\n",
    "    model.add(Conv2D(128,4, strides=2))\n",
    "    model.add(LeakyReLU(0.2))\n",
    "\n",
    "    model.add(Conv2D(128,4, strides=2))\n",
    "    model.add(LeakyReLU(0.2))\n",
    "    \n",
    "    model.add(Flatten())\n",
    "    model.add(Dropout(0.4))\n",
    "\n",
    "    model.add(Dense(1,activation='sigmoid'))\n",
    "    \n",
    "    model.compile(loss='binary_crossentropy',\n",
    "              optimizer=Adam(learning_rate=0.0002, beta_1=0.5))\n",
    "    return model\n",
    "D = build_D()"
   ],
   "metadata": {
    "execution": {
     "iopub.status.busy": "2021-08-14T10:00:40.661522Z",
     "iopub.execute_input": "2021-08-14T10:00:40.661836Z",
     "iopub.status.idle": "2021-08-14T10:00:40.736485Z",
     "shell.execute_reply.started": "2021-08-14T10:00:40.661801Z",
     "shell.execute_reply": "2021-08-14T10:00:40.735708Z"
    },
    "trusted": true
   },
   "execution_count": null,
   "outputs": []
  },
  {
   "cell_type": "code",
   "source": [
    "\n",
    "def build_gan():\n",
    "    \"\"\"\n",
    "    构建GAN网络\n",
    "    :return:\n",
    "    \"\"\"\n",
    "    # 冷冻判别器，也就是在训练的时候只优化G的网络权重，而对D保持不变\n",
    "    D.trainable = False\n",
    "    # GAN网络的输入\n",
    "    gan_input = Input(shape=(noise_dim,))\n",
    "    # GAN网络的输出\n",
    "    gan_out = D(G(gan_input))\n",
    "    # 构建网络\n",
    "    gan = Model(gan_input,gan_out)\n",
    "    # 编译GAN网络，使用Adam优化器，以及加上交叉熵损失函数（一般用于二分类）\n",
    "    gan.compile(loss='binary_crossentropy',optimizer=Adam(learning_rate=0.0002, beta_1=0.5))\n",
    "    return gan\n",
    "GAN = build_gan()"
   ],
   "metadata": {
    "execution": {
     "iopub.status.busy": "2021-08-14T10:00:40.738026Z",
     "iopub.execute_input": "2021-08-14T10:00:40.738349Z",
     "iopub.status.idle": "2021-08-14T10:00:40.807552Z",
     "shell.execute_reply.started": "2021-08-14T10:00:40.738315Z",
     "shell.execute_reply": "2021-08-14T10:00:40.806787Z"
    },
    "trusted": true
   },
   "execution_count": null,
   "outputs": []
  },
  {
   "cell_type": "code",
   "source": [
    "\n",
    "def sample_noise(batch_size):\n",
    "    \"\"\"\n",
    "    随机产生正态分布（0，1）的noise\n",
    "    :param batch_size:\n",
    "    :return: 返回的shape为(batch_size,noise)\n",
    "    \"\"\"\n",
    "    return np.random.normal(size=(batch_size, noise_dim))\n",
    "\n",
    "def smooth_pos_labels(y):\n",
    "    \"\"\"\n",
    "    使得true label的值的范围为[0.8,1]\n",
    "    :param y:\n",
    "    :return:\n",
    "    \"\"\"\n",
    "    return y - (np.random.random(y.shape) * 0.2)\n",
    "\n",
    "def smooth_neg_labels(y):\n",
    "    \"\"\"\n",
    "    使得fake label的值的范围为[0.0,0.3]\n",
    "    :param y:\n",
    "    :return:\n",
    "    \"\"\"\n",
    "    return y + np.random.random(y.shape) * 0.3\n"
   ],
   "metadata": {
    "execution": {
     "iopub.status.busy": "2021-08-14T10:00:40.808714Z",
     "iopub.execute_input": "2021-08-14T10:00:40.809082Z",
     "iopub.status.idle": "2021-08-14T10:00:40.81572Z",
     "shell.execute_reply.started": "2021-08-14T10:00:40.809044Z",
     "shell.execute_reply": "2021-08-14T10:00:40.814508Z"
    },
    "trusted": true
   },
   "execution_count": null,
   "outputs": []
  },
  {
   "cell_type": "code",
   "source": [
    "\n",
    "def load_batch(data, batch_size,index):\n",
    "    \"\"\"\n",
    "    按批次加载图片\n",
    "    :param data: 图片数据集\n",
    "    :param batch_size: 批次大小\n",
    "    :param index: 批次序号\n",
    "    :return:\n",
    "    \"\"\"\n",
    "    return data[index*batch_size: (index+1)*batch_size]"
   ],
   "metadata": {
    "execution": {
     "iopub.status.busy": "2021-08-14T10:00:40.816968Z",
     "iopub.execute_input": "2021-08-14T10:00:40.817539Z",
     "iopub.status.idle": "2021-08-14T10:00:40.829996Z",
     "shell.execute_reply.started": "2021-08-14T10:00:40.817498Z",
     "shell.execute_reply": "2021-08-14T10:00:40.829044Z"
    },
    "trusted": true
   },
   "execution_count": null,
   "outputs": []
  },
  {
   "cell_type": "code",
   "source": [
    "\n",
    "def train(epochs=100, batch_size=64):\n",
    "    \"\"\"\n",
    "    训练函数\n",
    "    :param epochs: 训练的次数\n",
    "    :param batch_size: 批尺寸\n",
    "    :return:\n",
    "    \"\"\"\n",
    "    # 判别器损失\n",
    "    discriminator_loss = 0\n",
    "    # 生成器损失\n",
    "    generator_loss = 0\n",
    "    \n",
    "    # img_dataset.shape[0] / batch_size 代表这个数据可以分为几个批次进行训练\n",
    "    n_batches = int(img_dataset.shape[0] / batch_size)\n",
    "    \n",
    "    for i in range(epochs):\n",
    "        for index in range(n_batches):\n",
    "            # 按批次加载数据\n",
    "            x = load_batch(img_dataset, batch_size,index)\n",
    "            # 产生noise\n",
    "            noise = sample_noise(batch_size)\n",
    "            # G网络产生图片\n",
    "            generated_images = G.predict(noise)\n",
    "            # 产生为1的标签\n",
    "            y_real = np.ones(batch_size)\n",
    "            # 将1标签的范围变成[0.8 , 1.0]\n",
    "            y_real = smooth_pos_labels(y_real)\n",
    "            # 产生为0的标签\n",
    "            y_fake = np.zeros(batch_size)\n",
    "            # 将0标签的范围变成[0.0 , 0.3]\n",
    "            y_fake = smooth_neg_labels(y_fake)\n",
    "            # 训练真图片loss\n",
    "            d_loss_real = D.train_on_batch(x, y_real)\n",
    "            # 训练假图片loss\n",
    "            d_loss_fake = D.train_on_batch(generated_images, y_fake)\n",
    "\n",
    "            discriminator_loss = d_loss_real + d_loss_fake\n",
    "            # 产生为1的标签\n",
    "            y_real = np.ones(batch_size)\n",
    "            # 训练GAN网络，input = fake_img ,label = 1\n",
    "            generator_loss = GAN.train_on_batch(noise, y_real)\n",
    "        \n",
    "        print('[Epoch {0}]. Discriminator loss : {1}. Generator_loss: {2}.'.format(i, discriminator_loss, generator_loss))\n",
    "\n",
    "        # 每个epoch保存一次。\n",
    "        if i%1 == 0:\n",
    "            # 随机产生(25,100)的noise\n",
    "            test_noise = sample_noise(25)\n",
    "            # 使用G网络生成25张图偏\n",
    "            test_images = G.predict(test_noise)\n",
    "            # show 预测 img\n",
    "            show_images(test_images,i)"
   ],
   "metadata": {
    "execution": {
     "iopub.status.busy": "2021-08-14T10:00:40.831509Z",
     "iopub.execute_input": "2021-08-14T10:00:40.832104Z",
     "iopub.status.idle": "2021-08-14T10:00:40.844144Z",
     "shell.execute_reply.started": "2021-08-14T10:00:40.832065Z",
     "shell.execute_reply": "2021-08-14T10:00:40.843031Z"
    },
    "trusted": true
   },
   "execution_count": null,
   "outputs": []
  },
  {
   "cell_type": "code",
   "source": "train(epochs=100, batch_size=256)",
   "metadata": {
    "tags": [],
    "execution": {
     "iopub.status.busy": "2021-08-14T10:00:40.845607Z",
     "iopub.execute_input": "2021-08-14T10:00:40.846031Z"
    },
    "trusted": true
   },
   "execution_count": null,
   "outputs": []
  }
 ]
}